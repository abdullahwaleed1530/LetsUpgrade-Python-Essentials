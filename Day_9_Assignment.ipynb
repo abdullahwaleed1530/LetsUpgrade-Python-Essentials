{
  "nbformat": 4,
  "nbformat_minor": 0,
  "metadata": {
    "colab": {
      "name": "Day-9 Assignment.ipynb",
      "provenance": []
    },
    "kernelspec": {
      "name": "python3",
      "display_name": "Python 3"
    }
  },
  "cells": [
    {
      "cell_type": "markdown",
      "metadata": {
        "id": "RKB3Kj6bk4Ix",
        "colab_type": "text"
      },
      "source": [
        "# LetsUpgrade Python Essentials Batch-7\n",
        "\n",
        "---\n",
        "\n"
      ]
    },
    {
      "cell_type": "markdown",
      "metadata": {
        "id": "Oczcxg1ClAqR",
        "colab_type": "text"
      },
      "source": [
        "## Assignment Day-9"
      ]
    },
    {
      "cell_type": "markdown",
      "metadata": {
        "id": "eG5NgHCqlDs5",
        "colab_type": "text"
      },
      "source": [
        "### Q1. Write a python Function for finding is a given number prime or not and do Unit Testing on it using PyLint and Unittest Library.\n"
      ]
    },
    {
      "cell_type": "code",
      "metadata": {
        "id": "zs1s37PSlCc_",
        "colab_type": "code",
        "colab": {
          "base_uri": "https://localhost:8080/",
          "height": 34
        },
        "outputId": "5e683750-699c-4064-85bf-465682864c82"
      },
      "source": [
        "%%writefile prime_number\n",
        "'''\n",
        "It is a function to check prime number\n",
        "'''\n",
        "def prime(num_n):\n",
        "    '''\n",
        "    this is a prime function\n",
        "    '''\n",
        "    if num_n==1:\n",
        "        return False\n",
        "    for i in range(2,num_n):\n",
        "        if num_n%i==0:\n",
        "            return False\n",
        "        return True\n",
        "\n"
      ],
      "execution_count": 14,
      "outputs": [
        {
          "output_type": "stream",
          "text": [
            "Overwriting prime_number\n"
          ],
          "name": "stdout"
        }
      ]
    },
    {
      "cell_type": "code",
      "metadata": {
        "id": "eKdhcja5lJQJ",
        "colab_type": "code",
        "colab": {
          "base_uri": "https://localhost:8080/",
          "height": 190
        },
        "outputId": "95c39608-c906-4e25-e29e-5cd849f61b6a"
      },
      "source": [
        "! pip install pylint"
      ],
      "execution_count": 12,
      "outputs": [
        {
          "output_type": "stream",
          "text": [
            "Requirement already satisfied: pylint in /usr/local/lib/python3.6/dist-packages (2.6.0)\n",
            "Requirement already satisfied: astroid<=2.5,>=2.4.0 in /usr/local/lib/python3.6/dist-packages (from pylint) (2.4.2)\n",
            "Requirement already satisfied: isort<6,>=4.2.5 in /usr/local/lib/python3.6/dist-packages (from pylint) (5.5.2)\n",
            "Requirement already satisfied: mccabe<0.7,>=0.6 in /usr/local/lib/python3.6/dist-packages (from pylint) (0.6.1)\n",
            "Requirement already satisfied: toml>=0.7.1 in /usr/local/lib/python3.6/dist-packages (from pylint) (0.10.1)\n",
            "Requirement already satisfied: six~=1.12 in /usr/local/lib/python3.6/dist-packages (from astroid<=2.5,>=2.4.0->pylint) (1.15.0)\n",
            "Requirement already satisfied: wrapt~=1.11 in /usr/local/lib/python3.6/dist-packages (from astroid<=2.5,>=2.4.0->pylint) (1.12.1)\n",
            "Requirement already satisfied: lazy-object-proxy==1.4.* in /usr/local/lib/python3.6/dist-packages (from astroid<=2.5,>=2.4.0->pylint) (1.4.3)\n",
            "Requirement already satisfied: typed-ast<1.5,>=1.4.0; implementation_name == \"cpython\" and python_version < \"3.8\" in /usr/local/lib/python3.6/dist-packages (from astroid<=2.5,>=2.4.0->pylint) (1.4.1)\n"
          ],
          "name": "stdout"
        }
      ]
    },
    {
      "cell_type": "code",
      "metadata": {
        "id": "sFH7Rc5SlN3Q",
        "colab_type": "code",
        "colab": {
          "base_uri": "https://localhost:8080/",
          "height": 85
        },
        "outputId": "aa2ab7e5-a597-4133-b674-bb3789dacd49"
      },
      "source": [
        "! pylint \"prime_number\""
      ],
      "execution_count": 15,
      "outputs": [
        {
          "output_type": "stream",
          "text": [
            "\n",
            "-------------------------------------------------------------------\n",
            "Your code has been rated at 10.00/10 (previous run: 8.57/10, +1.43)\n",
            "\n"
          ],
          "name": "stdout"
        }
      ]
    },
    {
      "cell_type": "code",
      "metadata": {
        "id": "CwfLX8_9lR-J",
        "colab_type": "code",
        "colab": {}
      },
      "source": [
        ""
      ],
      "execution_count": null,
      "outputs": []
    },
    {
      "cell_type": "markdown",
      "metadata": {
        "id": "RVwOTS3RmU0Q",
        "colab_type": "text"
      },
      "source": [
        "### Q2. Make a small generator program for returning armstrong numbers in between 1-1000 in a generator object."
      ]
    },
    {
      "cell_type": "code",
      "metadata": {
        "id": "_YeJnhvvmYba",
        "colab_type": "code",
        "colab": {
          "base_uri": "https://localhost:8080/",
          "height": 187
        },
        "outputId": "1671526b-4965-4863-f203-d97e25e8ee50"
      },
      "source": [
        "print(\"Enter 'x' for exit \")\n",
        "print(\"Enter the interval (starting number):\")\n",
        "print(\"Enter the interval (ending number):\")\n",
        "\n",
        "start = input();\n",
        "if start == 'x':\n",
        "  exit();\n",
        "else:\n",
        "  end = input()\n",
        "  lower = int(start);\n",
        "  upper = int(end);\n",
        "  for num in range(lower, upper+1):\n",
        "    tot = 0;\n",
        "    temp = num;\n",
        "    while temp != 0:\n",
        "      dig = temp % 10;\n",
        "      tot += dig ** 3;\n",
        "      temp //= 10;\n",
        "    if num == tot:\n",
        "      print(num);  \n"
      ],
      "execution_count": 23,
      "outputs": [
        {
          "output_type": "stream",
          "text": [
            "Enter 'x' for exit \n",
            "Enter the interval (starting number):\n",
            "Enter the interval (ending number):\n",
            "1\n",
            "1000\n",
            "1\n",
            "153\n",
            "370\n",
            "371\n",
            "407\n"
          ],
          "name": "stdout"
        }
      ]
    },
    {
      "cell_type": "code",
      "metadata": {
        "id": "7d3LV_M7nKpQ",
        "colab_type": "code",
        "colab": {}
      },
      "source": [
        ""
      ],
      "execution_count": null,
      "outputs": []
    }
  ]
}