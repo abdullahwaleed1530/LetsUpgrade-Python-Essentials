{
 "cells": [
  {
   "cell_type": "markdown",
   "metadata": {},
   "source": [
    "# PYTHON ESSENTIALS ASSIGNMENT DAY2 \n",
    "\n",
    "\n",
    "\n",
    "## BATCH-7"
   ]
  },
  {
   "cell_type": "markdown",
   "metadata": {},
   "source": [
    "## Q1. List and it's default functions."
   ]
  },
  {
   "cell_type": "markdown",
   "metadata": {},
   "source": [
    "A list is a collection which is ordered and changeable. In Python lists are written with square brackets.\n",
    "\n",
    "Methods:\n",
    "\n",
    "append() : The append() method appends an element to the end of the list.\n",
    " \n",
    "pop() :The pop() method removes the element at the specified position.\n",
    "\n",
    "copy() :The copy() method returns a copy of the specified list.\n",
    "\n",
    "index()  :The index() method returns the position at the first occurrence of the specified value.\n",
    "\n",
    "insert()  :The insert() method inserts the specified value at the specified position.\n",
    "\n",
    "\n",
    "\n",
    "\n",
    "\n",
    "\n",
    "Functions:\n",
    "\n",
    "len() :Returns the length of the list\n",
    "\n",
    "max() : Returns the max value of the list\n",
    "\n",
    "min()  : Returns the min value of the list\n",
    "\n",
    "range()  : Returns the items between a given range\n",
    "\n",
    "list()  : Returns a list"
   ]
  },
  {
   "cell_type": "code",
   "execution_count": 10,
   "metadata": {},
   "outputs": [
    {
     "data": {
      "text/plain": [
       "[28, 10, 2, 5, 321, 30, 33]"
      ]
     },
     "execution_count": 10,
     "metadata": {},
     "output_type": "execute_result"
    }
   ],
   "source": [
    "lst = [28,10,2,5,321,30,33]\n",
    "\n",
    "lst"
   ]
  },
  {
   "cell_type": "markdown",
   "metadata": {},
   "source": [
    "### METHODS"
   ]
  },
  {
   "cell_type": "code",
   "execution_count": 11,
   "metadata": {},
   "outputs": [
    {
     "name": "stdout",
     "output_type": "stream",
     "text": [
      "[28, 10, 2, 5, 321, 30, 33, 2001]\n"
     ]
    }
   ],
   "source": [
    "#append()\n",
    "\n",
    "lst.append(2001)\n",
    "\n",
    "print(lst) "
   ]
  },
  {
   "cell_type": "code",
   "execution_count": 12,
   "metadata": {},
   "outputs": [
    {
     "name": "stdout",
     "output_type": "stream",
     "text": [
      "[28, 10, 2, 5, 321, 33, 2001]\n"
     ]
    }
   ],
   "source": [
    "#pop()\n",
    "\n",
    "lst.pop(5)\n",
    "\n",
    "print(lst)\n"
   ]
  },
  {
   "cell_type": "code",
   "execution_count": 13,
   "metadata": {},
   "outputs": [
    {
     "name": "stdout",
     "output_type": "stream",
     "text": [
      "[28, 10, 2, 5, 321, 33, 2001]\n"
     ]
    }
   ],
   "source": [
    "#copy()\n",
    "\n",
    "lst2= lst.copy()\n",
    "\n",
    "print(lst2)"
   ]
  },
  {
   "cell_type": "code",
   "execution_count": 14,
   "metadata": {},
   "outputs": [
    {
     "data": {
      "text/plain": [
       "6"
      ]
     },
     "execution_count": 14,
     "metadata": {},
     "output_type": "execute_result"
    }
   ],
   "source": [
    "#index()\n",
    "\n",
    "lst.index(2001)\n",
    "\n"
   ]
  },
  {
   "cell_type": "code",
   "execution_count": 15,
   "metadata": {},
   "outputs": [
    {
     "name": "stdout",
     "output_type": "stream",
     "text": [
      "[28, 10, 2, 454, 5, 321, 33, 2001]\n"
     ]
    }
   ],
   "source": [
    "#insert()\n",
    "\n",
    "lst.insert(3,454)\n",
    "\n",
    "print(lst)"
   ]
  },
  {
   "cell_type": "markdown",
   "metadata": {},
   "source": [
    "### FUNCTIONS"
   ]
  },
  {
   "cell_type": "code",
   "execution_count": 16,
   "metadata": {},
   "outputs": [
    {
     "data": {
      "text/plain": [
       "8"
      ]
     },
     "execution_count": 16,
     "metadata": {},
     "output_type": "execute_result"
    }
   ],
   "source": [
    "#len()\n",
    "\n",
    "len(lst)"
   ]
  },
  {
   "cell_type": "code",
   "execution_count": 17,
   "metadata": {},
   "outputs": [
    {
     "data": {
      "text/plain": [
       "2001"
      ]
     },
     "execution_count": 17,
     "metadata": {},
     "output_type": "execute_result"
    }
   ],
   "source": [
    "#max()\n",
    "\n",
    "max(lst)"
   ]
  },
  {
   "cell_type": "code",
   "execution_count": 19,
   "metadata": {},
   "outputs": [
    {
     "data": {
      "text/plain": [
       "2"
      ]
     },
     "execution_count": 19,
     "metadata": {},
     "output_type": "execute_result"
    }
   ],
   "source": [
    "#min()\n",
    "\n",
    "min(lst)\n"
   ]
  },
  {
   "cell_type": "code",
   "execution_count": 20,
   "metadata": {},
   "outputs": [
    {
     "name": "stdout",
     "output_type": "stream",
     "text": [
      "[0, 1, 2, 3, 4, 5, 6, 7, 8, 9, 10, 11, 12, 13, 14, 15, 16, 17, 18, 19]\n"
     ]
    }
   ],
   "source": [
    "#range()\n",
    "\n",
    "a=list(range(0,20))\n",
    "print(a)"
   ]
  },
  {
   "cell_type": "code",
   "execution_count": 23,
   "metadata": {},
   "outputs": [
    {
     "name": "stdout",
     "output_type": "stream",
     "text": [
      "[10, 1, 67, 899, 4, 7, 22]\n"
     ]
    }
   ],
   "source": [
    "#list()\n",
    "\n",
    "b=(10,1,67,899,4,7,22)\n",
    "print(list(b))"
   ]
  },
  {
   "cell_type": "markdown",
   "metadata": {},
   "source": [
    "\n",
    "\n",
    "## Q2. Dictionary and it's default functions\n",
    "\n"
   ]
  },
  {
   "cell_type": "markdown",
   "metadata": {},
   "source": [
    "A dictionary is a collection which is unordered, changeable and indexed. In Python dictionaries are written with curly brackets, and they have keys and values.\n",
    "\n",
    "Some of the methods are:\n",
    "\n",
    "\n",
    "keys()  : Returns a list containing the dictionary's keys\n",
    "\n",
    "values()  : Returns a list containing the dictionary's values\n",
    "\n",
    "items()  : Returns a list containing the dictionary's values\n",
    "\n",
    "update()  : Updates the dictionary with the specified key-value pairs\n",
    "\n",
    "get()  : Returns the value of the specified key\n",
    "\n",
    "\n",
    "\n",
    "Some of the default functions are :\n",
    "\n",
    "\n",
    "len()  : Returns the length of the list\n",
    "\n",
    "any()  : Returns true if any key of dictionary is true  \n",
    "sorted()  : Returns a new sorted list of keys\n",
    "\n",
    "all()  : Returns true if all keys of dictionary are true  \n",
    "\n",
    "str()  : Returns a string which by converting the dictionary to string\n"
   ]
  },
  {
   "cell_type": "code",
   "execution_count": 24,
   "metadata": {},
   "outputs": [
    {
     "name": "stdout",
     "output_type": "stream",
     "text": [
      "{'name': 'Abdullah', 'age': 25, 'address': 'Hyderabad'}\n"
     ]
    }
   ],
   "source": [
    "dict={\"name\" :\"Abdullah\",  \"age\":25,  \"address\"  : \"Hyderabad\"}\n",
    "\n",
    "print(dict)\n"
   ]
  },
  {
   "cell_type": "markdown",
   "metadata": {},
   "source": [
    "\n",
    "### METHODS\n"
   ]
  },
  {
   "cell_type": "code",
   "execution_count": 25,
   "metadata": {},
   "outputs": [
    {
     "data": {
      "text/plain": [
       "dict_keys(['name', 'age', 'address'])"
      ]
     },
     "execution_count": 25,
     "metadata": {},
     "output_type": "execute_result"
    }
   ],
   "source": [
    "#keys()\n",
    "\n",
    "dict.keys()"
   ]
  },
  {
   "cell_type": "code",
   "execution_count": 26,
   "metadata": {},
   "outputs": [
    {
     "data": {
      "text/plain": [
       "dict_values(['Abdullah', 25, 'Hyderabad'])"
      ]
     },
     "execution_count": 26,
     "metadata": {},
     "output_type": "execute_result"
    }
   ],
   "source": [
    "dict.values()"
   ]
  },
  {
   "cell_type": "code",
   "execution_count": 27,
   "metadata": {},
   "outputs": [
    {
     "data": {
      "text/plain": [
       "dict_items([('name', 'Abdullah'), ('age', 25), ('address', 'Hyderabad')])"
      ]
     },
     "execution_count": 27,
     "metadata": {},
     "output_type": "execute_result"
    }
   ],
   "source": [
    "dict.items()"
   ]
  },
  {
   "cell_type": "code",
   "execution_count": 29,
   "metadata": {},
   "outputs": [
    {
     "name": "stdout",
     "output_type": "stream",
     "text": [
      "{'name': 'Abdullah', 'age': 25, 'address': 'Mumbai'}\n"
     ]
    }
   ],
   "source": [
    "#update()\n",
    "\n",
    "dict.update({'address':'Mumbai'})\n",
    "\n",
    "print(dict)"
   ]
  },
  {
   "cell_type": "markdown",
   "metadata": {},
   "source": [
    "### FUNCTIONS"
   ]
  },
  {
   "cell_type": "code",
   "execution_count": 30,
   "metadata": {},
   "outputs": [
    {
     "name": "stdout",
     "output_type": "stream",
     "text": [
      "{'name': 'Abdullah', 'age': 25, 'address': 'Mumbai'}\n"
     ]
    }
   ],
   "source": [
    "print(dict)"
   ]
  },
  {
   "cell_type": "code",
   "execution_count": 31,
   "metadata": {},
   "outputs": [
    {
     "data": {
      "text/plain": [
       "3"
      ]
     },
     "execution_count": 31,
     "metadata": {},
     "output_type": "execute_result"
    }
   ],
   "source": [
    "#len()\n",
    "\n",
    "len(dict)"
   ]
  },
  {
   "cell_type": "code",
   "execution_count": 32,
   "metadata": {},
   "outputs": [
    {
     "data": {
      "text/plain": [
       "True"
      ]
     },
     "execution_count": 32,
     "metadata": {},
     "output_type": "execute_result"
    }
   ],
   "source": [
    "#any()\n",
    "\n",
    "any(dict)"
   ]
  },
  {
   "cell_type": "code",
   "execution_count": 33,
   "metadata": {},
   "outputs": [
    {
     "data": {
      "text/plain": [
       "['address', 'age', 'name']"
      ]
     },
     "execution_count": 33,
     "metadata": {},
     "output_type": "execute_result"
    }
   ],
   "source": [
    "#sorted()\n",
    "\n",
    "sorted(dict)"
   ]
  },
  {
   "cell_type": "code",
   "execution_count": 34,
   "metadata": {},
   "outputs": [
    {
     "data": {
      "text/plain": [
       "True"
      ]
     },
     "execution_count": 34,
     "metadata": {},
     "output_type": "execute_result"
    }
   ],
   "source": [
    "#all()\n",
    "\n",
    "all(dict)"
   ]
  },
  {
   "cell_type": "code",
   "execution_count": 39,
   "metadata": {},
   "outputs": [
    {
     "name": "stdout",
     "output_type": "stream",
     "text": [
      "{'name': 'Abdullah', 'age': 25, 'address': 'Mumbai'}\n"
     ]
    }
   ],
   "source": [
    "#str()\n",
    "\n",
    "print (dict)"
   ]
  },
  {
   "cell_type": "markdown",
   "metadata": {},
   "source": [
    "\n",
    "\n",
    "## Q3. Sets and it's default methods"
   ]
  },
  {
   "cell_type": "markdown",
   "metadata": {},
   "source": [
    "\n",
    "Sets : A set is a collection which is unordered and unindexed. In Python sets are written with curly brackets.\n",
    "\n",
    "Some of the methods are :\n",
    "\n",
    "\n",
    "add()  : The add() method adds an element to the set.\n",
    "\n",
    "difference()  : The difference() method returns a set that contains the difference between two sets.\n",
    "\n",
    "intersection()  : The intersection() method returns a set that contains the similarity between two or more sets.\n",
    "\n",
    "union()  : The union() method returns a set that contains all items from the original set, and all     \n",
    "\n",
    "remove()  : The remove() method removes the specified element from the set.\n",
    "\n",
    "Some of the default functions are :\n",
    "\n",
    "\n",
    "all()  : Returns true if all elements of set are true\n",
    "\n",
    "any()  : Returns true if any element of set is true\n",
    " \n",
    "len()  : Returns the length of the set\n",
    "\n",
    "max()  : Returns largest item in set  \n",
    "\n",
    "sum()  : Returns sum of all elements in set"
   ]
  },
  {
   "cell_type": "code",
   "execution_count": 61,
   "metadata": {},
   "outputs": [
    {
     "name": "stdout",
     "output_type": "stream",
     "text": [
      "{'John Cena', 'Undertaker', 'The Rock', 'Goldberg'}\n"
     ]
    }
   ],
   "source": [
    "wwe={\"John Cena\",  \"Undertaker\", \"Goldberg\", \"The Rock\"}\n",
    "print(wwe)"
   ]
  },
  {
   "cell_type": "markdown",
   "metadata": {},
   "source": [
    "### METHODS"
   ]
  },
  {
   "cell_type": "code",
   "execution_count": 62,
   "metadata": {},
   "outputs": [
    {
     "name": "stdout",
     "output_type": "stream",
     "text": [
      "{'Undertaker', 'Goldberg', 'Stonecold Steveaustin', 'John Cena', 'The Rock'}\n"
     ]
    }
   ],
   "source": [
    "#add()\n",
    "\n",
    "wwe.add(\"Stonecold Steveaustin\")\n",
    "\n",
    "print(wwe)"
   ]
  },
  {
   "cell_type": "code",
   "execution_count": 63,
   "metadata": {},
   "outputs": [
    {
     "name": "stdout",
     "output_type": "stream",
     "text": [
      "{'John Cena', 'Undertaker'}\n"
     ]
    }
   ],
   "source": [
    "#difference()\n",
    "\n",
    "wwe= {\"John Cena\", \"Undertaker\", \"Triple H\", \"The Rock\"}\n",
    "wwe2= {\"Matt Hardy\", \"The Rock\", \"Edge\", \"Triple H\"}\n",
    "\n",
    "mix= wwe.difference(wwe2)\n",
    "\n",
    "print(mix)\n"
   ]
  },
  {
   "cell_type": "code",
   "execution_count": 64,
   "metadata": {},
   "outputs": [
    {
     "name": "stdout",
     "output_type": "stream",
     "text": [
      "{'The Rock', 'Triple H'}\n"
     ]
    }
   ],
   "source": [
    "#intersection()\n",
    "\n",
    "wwe3= {\"John Cena\", \"Undertaker\", \"Triple H\", \"The Rock\"}\n",
    "wwe4= {\"Matt Hardy\", \"The Rock\", \"Edge\", \"Triple H\"}\n",
    "\n",
    "mix= wwe3.intersection(wwe4)\n",
    "\n",
    "print(mix)"
   ]
  },
  {
   "cell_type": "code",
   "execution_count": 65,
   "metadata": {},
   "outputs": [
    {
     "name": "stdout",
     "output_type": "stream",
     "text": [
      "{'Undertaker', 'Triple H', 'Edge', 'Matt Hardy', 'John Cena', 'The Rock'}\n"
     ]
    }
   ],
   "source": [
    "#union()\n",
    "\n",
    "wwe5= {\"John Cena\", \"Undertaker\", \"Triple H\", \"The Rock\"}\n",
    "wwe6= {\"Matt Hardy\", \"The Rock\", \"Edge\", \"Triple H\"}\n",
    "\n",
    "mix= wwe5.union(wwe6)\n",
    "\n",
    "print(mix)"
   ]
  },
  {
   "cell_type": "code",
   "execution_count": 66,
   "metadata": {},
   "outputs": [
    {
     "name": "stdout",
     "output_type": "stream",
     "text": [
      "{'John Cena', 'The Rock', 'Triple H'}\n"
     ]
    }
   ],
   "source": [
    "#remove()\n",
    "\n",
    "wwe.remove('Undertaker')\n",
    "\n",
    "print(wwe)"
   ]
  },
  {
   "cell_type": "markdown",
   "metadata": {},
   "source": [
    "### FUNCTIONS"
   ]
  },
  {
   "cell_type": "code",
   "execution_count": 67,
   "metadata": {},
   "outputs": [
    {
     "name": "stdout",
     "output_type": "stream",
     "text": [
      "{'John Cena', 'Undertaker', 'The Rock', 'Goldberg'}\n"
     ]
    }
   ],
   "source": [
    "wwe={\"John Cena\",  \"Undertaker\", \"Goldberg\", \"The Rock\"}\n",
    "print(wwe)\n"
   ]
  },
  {
   "cell_type": "code",
   "execution_count": 68,
   "metadata": {},
   "outputs": [
    {
     "data": {
      "text/plain": [
       "True"
      ]
     },
     "execution_count": 68,
     "metadata": {},
     "output_type": "execute_result"
    }
   ],
   "source": [
    "#all()\n",
    "\n",
    "all(wwe)\n",
    "\n"
   ]
  },
  {
   "cell_type": "code",
   "execution_count": 69,
   "metadata": {},
   "outputs": [
    {
     "data": {
      "text/plain": [
       "True"
      ]
     },
     "execution_count": 69,
     "metadata": {},
     "output_type": "execute_result"
    }
   ],
   "source": [
    "#any()\n",
    "\n",
    "any(wwe)"
   ]
  },
  {
   "cell_type": "code",
   "execution_count": 70,
   "metadata": {},
   "outputs": [
    {
     "data": {
      "text/plain": [
       "4"
      ]
     },
     "execution_count": 70,
     "metadata": {},
     "output_type": "execute_result"
    }
   ],
   "source": [
    "#len()\n",
    "\n",
    "len(wwe)"
   ]
  },
  {
   "cell_type": "code",
   "execution_count": 72,
   "metadata": {},
   "outputs": [
    {
     "name": "stdout",
     "output_type": "stream",
     "text": [
      "{65, 2, 13, 434, 88}\n"
     ]
    }
   ],
   "source": [
    "set2= {2,434,65,88,13,2}\n",
    "\n",
    "print(set2)"
   ]
  },
  {
   "cell_type": "code",
   "execution_count": 74,
   "metadata": {},
   "outputs": [
    {
     "data": {
      "text/plain": [
       "434"
      ]
     },
     "execution_count": 74,
     "metadata": {},
     "output_type": "execute_result"
    }
   ],
   "source": [
    "#max()\n",
    "\n",
    "max(set2)"
   ]
  },
  {
   "cell_type": "code",
   "execution_count": 75,
   "metadata": {},
   "outputs": [
    {
     "data": {
      "text/plain": [
       "2"
      ]
     },
     "execution_count": 75,
     "metadata": {},
     "output_type": "execute_result"
    }
   ],
   "source": [
    "#min()\n",
    "\n",
    "min (set2)"
   ]
  },
  {
   "cell_type": "code",
   "execution_count": 76,
   "metadata": {},
   "outputs": [
    {
     "data": {
      "text/plain": [
       "602"
      ]
     },
     "execution_count": 76,
     "metadata": {},
     "output_type": "execute_result"
    }
   ],
   "source": [
    "#sum()\n",
    "\n",
    "sum(set2)"
   ]
  },
  {
   "cell_type": "markdown",
   "metadata": {},
   "source": [
    "\n",
    "\n",
    "## Q4. Tuples and it's default functions\n"
   ]
  },
  {
   "cell_type": "markdown",
   "metadata": {},
   "source": [
    "Tuple : A tuple is a collection which is ordered and unchangeable. In Python tuples are written with round brackets.\n",
    "\n",
    "Some of the methods are: \n",
    "\n",
    "index() : Searches the tuple for a specified value and returns.\n",
    "\n",
    "count()  : Returns the number of times a specified value occurs in a tuple.  \n",
    "\n",
    "Some of the default functions are :\n",
    "\n",
    "len()  : Returns the length of the tuple.\n",
    "\n",
    "max()  : Returns the max value of the tuple.\n",
    "\n",
    "min()  : Returns the min value of the tuple.\n",
    "\n",
    "sum()  : Returns sum of all elements in tuple.\n",
    "\n",
    "sorted()  : Returns the tuple in sorted manner."
   ]
  },
  {
   "cell_type": "code",
   "execution_count": 77,
   "metadata": {},
   "outputs": [
    {
     "name": "stdout",
     "output_type": "stream",
     "text": [
      "('Red', 'Green', 'Blue', 'Purple', 'Green')\n"
     ]
    }
   ],
   "source": [
    "my_tuple = (\"Red\",\"Green\",\"Blue\",\"Purple\", \"Green\") \n",
    "\n",
    "print(my_tuple)"
   ]
  },
  {
   "cell_type": "markdown",
   "metadata": {},
   "source": [
    "### METHODS"
   ]
  },
  {
   "cell_type": "code",
   "execution_count": 101,
   "metadata": {},
   "outputs": [
    {
     "data": {
      "text/plain": [
       "2"
      ]
     },
     "execution_count": 101,
     "metadata": {},
     "output_type": "execute_result"
    }
   ],
   "source": [
    "#index()\n",
    "\n",
    "my_tuple.index(\"Blue\")"
   ]
  },
  {
   "cell_type": "code",
   "execution_count": 102,
   "metadata": {},
   "outputs": [
    {
     "data": {
      "text/plain": [
       "2"
      ]
     },
     "execution_count": 102,
     "metadata": {},
     "output_type": "execute_result"
    }
   ],
   "source": [
    "#count()\n",
    "\n",
    "my_tuple.count(\"Green\")"
   ]
  },
  {
   "cell_type": "markdown",
   "metadata": {},
   "source": [
    "### FUNCTIONS"
   ]
  },
  {
   "cell_type": "code",
   "execution_count": 81,
   "metadata": {},
   "outputs": [
    {
     "data": {
      "text/plain": [
       "5"
      ]
     },
     "execution_count": 81,
     "metadata": {},
     "output_type": "execute_result"
    }
   ],
   "source": [
    "#len()\n",
    "\n",
    "my_tuple = (\"Red\",\"Green\",\"Blue\",\"Purple\", \"Green\") \n",
    "\n",
    "len(my_tuple)"
   ]
  },
  {
   "cell_type": "code",
   "execution_count": 87,
   "metadata": {},
   "outputs": [
    {
     "data": {
      "text/plain": [
       "666"
      ]
     },
     "execution_count": 87,
     "metadata": {},
     "output_type": "execute_result"
    }
   ],
   "source": [
    "#max()\n",
    "\n",
    "my_tuple2=(56,67,4,666)\n",
    "\n",
    "max(my_tuple2)"
   ]
  },
  {
   "cell_type": "code",
   "execution_count": 89,
   "metadata": {},
   "outputs": [
    {
     "data": {
      "text/plain": [
       "4"
      ]
     },
     "execution_count": 89,
     "metadata": {},
     "output_type": "execute_result"
    }
   ],
   "source": [
    "#min\n",
    "\n",
    "my_tuple2=(56,67,4,666)\n",
    "\n",
    "min(my_tuple2)\n"
   ]
  },
  {
   "cell_type": "code",
   "execution_count": 90,
   "metadata": {},
   "outputs": [
    {
     "data": {
      "text/plain": [
       "793"
      ]
     },
     "execution_count": 90,
     "metadata": {},
     "output_type": "execute_result"
    }
   ],
   "source": [
    "#sum()\n",
    "\n",
    "\n",
    "my_tuple2=(56,67,4,666)\n",
    "\n",
    "sum(my_tuple2)"
   ]
  },
  {
   "cell_type": "code",
   "execution_count": 91,
   "metadata": {},
   "outputs": [
    {
     "data": {
      "text/plain": [
       "[4, 56, 67, 666]"
      ]
     },
     "execution_count": 91,
     "metadata": {},
     "output_type": "execute_result"
    }
   ],
   "source": [
    "#sorted()\n",
    "\n",
    "my_tuple2=(56,67,4,666)\n",
    "\n",
    "sorted(my_tuple2)\n"
   ]
  },
  {
   "cell_type": "markdown",
   "metadata": {},
   "source": [
    "\n",
    "### Q5. String and it's default methods"
   ]
  },
  {
   "cell_type": "markdown",
   "metadata": {},
   "source": [
    "\n",
    "\n",
    "String : String literals in python are surrounded by either single quotation marks, or double quotation marks.\n",
    "\n",
    "Some of the methods are:\n",
    "\n",
    "upper()  : Converts string to upper case.\n",
    "\n",
    "lower()  : Converts string to lower case.\n",
    "\n",
    "count()  : Returns the number of times a specified value occurs in a string.\n",
    "\n",
    "swapcase()  : Returns a string by swapping the cases.\n",
    "\n",
    "split()  : Splits the string at specified separator and returns a list.\n",
    "\n",
    "splitlines()  : Splits the string at line breaks and returns a list\n",
    "\n"
   ]
  },
  {
   "cell_type": "markdown",
   "metadata": {},
   "source": []
  },
  {
   "cell_type": "code",
   "execution_count": 93,
   "metadata": {},
   "outputs": [
    {
     "name": "stdout",
     "output_type": "stream",
     "text": [
      "If you smell what THE ROCK is cooking\n"
     ]
    }
   ],
   "source": [
    "strng= \"If you smell what THE ROCK is cooking\"\n",
    "\n",
    "print(strng)\n",
    "\n"
   ]
  },
  {
   "cell_type": "markdown",
   "metadata": {},
   "source": [
    "### METHODS\n"
   ]
  },
  {
   "cell_type": "code",
   "execution_count": 94,
   "metadata": {},
   "outputs": [
    {
     "data": {
      "text/plain": [
       "'IF YOU SMELL WHAT THE ROCK IS COOKING'"
      ]
     },
     "execution_count": 94,
     "metadata": {},
     "output_type": "execute_result"
    }
   ],
   "source": [
    "#upper()\n",
    "\n",
    "strng.upper()"
   ]
  },
  {
   "cell_type": "code",
   "execution_count": 95,
   "metadata": {},
   "outputs": [
    {
     "data": {
      "text/plain": [
       "'if you smell what the rock is cooking'"
      ]
     },
     "execution_count": 95,
     "metadata": {},
     "output_type": "execute_result"
    }
   ],
   "source": [
    "#lower()\n",
    "\n",
    "strng.lower()"
   ]
  },
  {
   "cell_type": "code",
   "execution_count": 96,
   "metadata": {},
   "outputs": [
    {
     "data": {
      "text/plain": [
       "1"
      ]
     },
     "execution_count": 96,
     "metadata": {},
     "output_type": "execute_result"
    }
   ],
   "source": [
    "#count()\n",
    "\n",
    "strng.count(\"ROCK\")"
   ]
  },
  {
   "cell_type": "code",
   "execution_count": 98,
   "metadata": {},
   "outputs": [
    {
     "data": {
      "text/plain": [
       "'iF YOU SMELL WHAT the rock IS COOKING'"
      ]
     },
     "execution_count": 98,
     "metadata": {},
     "output_type": "execute_result"
    }
   ],
   "source": [
    "#swapcase() \n",
    "\n",
    "strng.swapcase()"
   ]
  },
  {
   "cell_type": "code",
   "execution_count": 99,
   "metadata": {},
   "outputs": [
    {
     "data": {
      "text/plain": [
       "['If', 'you', 'smell', 'what', 'THE', 'ROCK', 'is', 'cooking']"
      ]
     },
     "execution_count": 99,
     "metadata": {},
     "output_type": "execute_result"
    }
   ],
   "source": [
    "#split()\n",
    "\n",
    "strng.split()"
   ]
  },
  {
   "cell_type": "code",
   "execution_count": 100,
   "metadata": {},
   "outputs": [
    {
     "data": {
      "text/plain": [
       "['If you smell what THE ROCK is cooking']"
      ]
     },
     "execution_count": 100,
     "metadata": {},
     "output_type": "execute_result"
    }
   ],
   "source": [
    "#splitlines\n",
    "\n",
    "strng.splitlines()"
   ]
  },
  {
   "cell_type": "code",
   "execution_count": null,
   "metadata": {},
   "outputs": [],
   "source": []
  }
 ],
 "metadata": {
  "kernelspec": {
   "display_name": "Python 3",
   "language": "python",
   "name": "python3"
  },
  "language_info": {
   "codemirror_mode": {
    "name": "ipython",
    "version": 3
   },
   "file_extension": ".py",
   "mimetype": "text/x-python",
   "name": "python",
   "nbconvert_exporter": "python",
   "pygments_lexer": "ipython3",
   "version": "3.8.5"
  }
 },
 "nbformat": 4,
 "nbformat_minor": 4
}
